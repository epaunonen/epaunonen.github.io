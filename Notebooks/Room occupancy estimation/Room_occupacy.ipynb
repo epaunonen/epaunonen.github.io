{
 "cells": [
  {
   "cell_type": "code",
   "execution_count": 1,
   "metadata": {},
   "outputs": [],
   "source": [
    "import numpy as np\n",
    "import pandas as pd\n",
    "import matplotlib.pyplot as plt\n",
    "%matplotlib inline\n",
    "\n",
    "from sklearn.model_selection import train_test_split\n",
    "from sklearn.linear_model import LogisticRegression\n",
    "from sklearn.metrics import accuracy_score, confusion_matrix, ConfusionMatrixDisplay, precision_score, recall_score, log_loss\n",
    "\n",
    "from sklearn.pipeline import make_pipeline\n",
    "from sklearn.preprocessing import StandardScaler\n",
    "\n",
    "from sklearn.model_selection import GridSearchCV\n",
    "\n",
    "from sklearn.neural_network import MLPClassifier"
   ]
  },
  {
   "cell_type": "markdown",
   "metadata": {},
   "source": [
    "## Problem setting & description\n",
    "This dataset is from a controlled experiment, where sensors are used to observe changes in environmental variables when number of people in a room fluctuate between zero and three.<br>\n",
    "In total, seven different sensors were installed into a 6m x 4.6m room.\n",
    "\n",
    "Dataset obtained from:\n",
    "https://archive.ics.uci.edu/ml/datasets/Room+Occupancy+Estimation\n",
    "\n",
    "Classification will be performed on this data, with **logistic regression** and **multi-layer perceptron** chosen as methods."
   ]
  },
  {
   "cell_type": "code",
   "execution_count": 2,
   "metadata": {},
   "outputs": [
    {
     "data": {
      "text/html": [
       "<div>\n",
       "<style scoped>\n",
       "    .dataframe tbody tr th:only-of-type {\n",
       "        vertical-align: middle;\n",
       "    }\n",
       "\n",
       "    .dataframe tbody tr th {\n",
       "        vertical-align: top;\n",
       "    }\n",
       "\n",
       "    .dataframe thead th {\n",
       "        text-align: right;\n",
       "    }\n",
       "</style>\n",
       "<table border=\"1\" class=\"dataframe\">\n",
       "  <thead>\n",
       "    <tr style=\"text-align: right;\">\n",
       "      <th></th>\n",
       "      <th>S1_Temp</th>\n",
       "      <th>S2_Temp</th>\n",
       "      <th>S3_Temp</th>\n",
       "      <th>S4_Temp</th>\n",
       "      <th>S1_Light</th>\n",
       "      <th>S2_Light</th>\n",
       "      <th>S3_Light</th>\n",
       "      <th>S4_Light</th>\n",
       "      <th>S1_Sound</th>\n",
       "      <th>S2_Sound</th>\n",
       "      <th>S3_Sound</th>\n",
       "      <th>S4_Sound</th>\n",
       "      <th>S5_CO2</th>\n",
       "      <th>S5_CO2_Slope</th>\n",
       "      <th>S6_PIR</th>\n",
       "      <th>S7_PIR</th>\n",
       "      <th>Room_Occupancy_Count</th>\n",
       "    </tr>\n",
       "  </thead>\n",
       "  <tbody>\n",
       "    <tr>\n",
       "      <th>count</th>\n",
       "      <td>10129.000000</td>\n",
       "      <td>10129.000000</td>\n",
       "      <td>10129.000000</td>\n",
       "      <td>10129.000000</td>\n",
       "      <td>10129.000000</td>\n",
       "      <td>10129.00000</td>\n",
       "      <td>10129.000000</td>\n",
       "      <td>10129.000000</td>\n",
       "      <td>10129.000000</td>\n",
       "      <td>10129.000000</td>\n",
       "      <td>10129.000000</td>\n",
       "      <td>10129.000000</td>\n",
       "      <td>10129.000000</td>\n",
       "      <td>10129.000000</td>\n",
       "      <td>10129.000000</td>\n",
       "      <td>10129.000000</td>\n",
       "      <td>10129.000000</td>\n",
       "    </tr>\n",
       "    <tr>\n",
       "      <th>mean</th>\n",
       "      <td>25.454012</td>\n",
       "      <td>25.546059</td>\n",
       "      <td>25.056621</td>\n",
       "      <td>25.754125</td>\n",
       "      <td>25.445059</td>\n",
       "      <td>26.01629</td>\n",
       "      <td>34.248494</td>\n",
       "      <td>13.220259</td>\n",
       "      <td>0.168178</td>\n",
       "      <td>0.120066</td>\n",
       "      <td>0.158119</td>\n",
       "      <td>0.103840</td>\n",
       "      <td>460.860401</td>\n",
       "      <td>-0.004830</td>\n",
       "      <td>0.090137</td>\n",
       "      <td>0.079574</td>\n",
       "      <td>0.398559</td>\n",
       "    </tr>\n",
       "    <tr>\n",
       "      <th>std</th>\n",
       "      <td>0.351351</td>\n",
       "      <td>0.586325</td>\n",
       "      <td>0.427283</td>\n",
       "      <td>0.356434</td>\n",
       "      <td>51.011264</td>\n",
       "      <td>67.30417</td>\n",
       "      <td>58.400744</td>\n",
       "      <td>19.602219</td>\n",
       "      <td>0.316709</td>\n",
       "      <td>0.266503</td>\n",
       "      <td>0.413637</td>\n",
       "      <td>0.120683</td>\n",
       "      <td>199.964940</td>\n",
       "      <td>1.164990</td>\n",
       "      <td>0.286392</td>\n",
       "      <td>0.270645</td>\n",
       "      <td>0.893633</td>\n",
       "    </tr>\n",
       "    <tr>\n",
       "      <th>min</th>\n",
       "      <td>24.940000</td>\n",
       "      <td>24.750000</td>\n",
       "      <td>24.440000</td>\n",
       "      <td>24.940000</td>\n",
       "      <td>0.000000</td>\n",
       "      <td>0.00000</td>\n",
       "      <td>0.000000</td>\n",
       "      <td>0.000000</td>\n",
       "      <td>0.060000</td>\n",
       "      <td>0.040000</td>\n",
       "      <td>0.040000</td>\n",
       "      <td>0.050000</td>\n",
       "      <td>345.000000</td>\n",
       "      <td>-6.296154</td>\n",
       "      <td>0.000000</td>\n",
       "      <td>0.000000</td>\n",
       "      <td>0.000000</td>\n",
       "    </tr>\n",
       "    <tr>\n",
       "      <th>25%</th>\n",
       "      <td>25.190000</td>\n",
       "      <td>25.190000</td>\n",
       "      <td>24.690000</td>\n",
       "      <td>25.440000</td>\n",
       "      <td>0.000000</td>\n",
       "      <td>0.00000</td>\n",
       "      <td>0.000000</td>\n",
       "      <td>0.000000</td>\n",
       "      <td>0.070000</td>\n",
       "      <td>0.050000</td>\n",
       "      <td>0.060000</td>\n",
       "      <td>0.060000</td>\n",
       "      <td>355.000000</td>\n",
       "      <td>-0.046154</td>\n",
       "      <td>0.000000</td>\n",
       "      <td>0.000000</td>\n",
       "      <td>0.000000</td>\n",
       "    </tr>\n",
       "    <tr>\n",
       "      <th>50%</th>\n",
       "      <td>25.380000</td>\n",
       "      <td>25.380000</td>\n",
       "      <td>24.940000</td>\n",
       "      <td>25.750000</td>\n",
       "      <td>0.000000</td>\n",
       "      <td>0.00000</td>\n",
       "      <td>0.000000</td>\n",
       "      <td>0.000000</td>\n",
       "      <td>0.080000</td>\n",
       "      <td>0.050000</td>\n",
       "      <td>0.060000</td>\n",
       "      <td>0.080000</td>\n",
       "      <td>360.000000</td>\n",
       "      <td>0.000000</td>\n",
       "      <td>0.000000</td>\n",
       "      <td>0.000000</td>\n",
       "      <td>0.000000</td>\n",
       "    </tr>\n",
       "    <tr>\n",
       "      <th>75%</th>\n",
       "      <td>25.630000</td>\n",
       "      <td>25.630000</td>\n",
       "      <td>25.380000</td>\n",
       "      <td>26.000000</td>\n",
       "      <td>12.000000</td>\n",
       "      <td>14.00000</td>\n",
       "      <td>50.000000</td>\n",
       "      <td>22.000000</td>\n",
       "      <td>0.080000</td>\n",
       "      <td>0.060000</td>\n",
       "      <td>0.070000</td>\n",
       "      <td>0.100000</td>\n",
       "      <td>465.000000</td>\n",
       "      <td>0.000000</td>\n",
       "      <td>0.000000</td>\n",
       "      <td>0.000000</td>\n",
       "      <td>0.000000</td>\n",
       "    </tr>\n",
       "    <tr>\n",
       "      <th>max</th>\n",
       "      <td>26.380000</td>\n",
       "      <td>29.000000</td>\n",
       "      <td>26.190000</td>\n",
       "      <td>26.560000</td>\n",
       "      <td>165.000000</td>\n",
       "      <td>258.00000</td>\n",
       "      <td>280.000000</td>\n",
       "      <td>74.000000</td>\n",
       "      <td>3.880000</td>\n",
       "      <td>3.440000</td>\n",
       "      <td>3.670000</td>\n",
       "      <td>3.400000</td>\n",
       "      <td>1270.000000</td>\n",
       "      <td>8.980769</td>\n",
       "      <td>1.000000</td>\n",
       "      <td>1.000000</td>\n",
       "      <td>3.000000</td>\n",
       "    </tr>\n",
       "  </tbody>\n",
       "</table>\n",
       "</div>"
      ],
      "text/plain": [
       "            S1_Temp       S2_Temp       S3_Temp       S4_Temp      S1_Light  \\\n",
       "count  10129.000000  10129.000000  10129.000000  10129.000000  10129.000000   \n",
       "mean      25.454012     25.546059     25.056621     25.754125     25.445059   \n",
       "std        0.351351      0.586325      0.427283      0.356434     51.011264   \n",
       "min       24.940000     24.750000     24.440000     24.940000      0.000000   \n",
       "25%       25.190000     25.190000     24.690000     25.440000      0.000000   \n",
       "50%       25.380000     25.380000     24.940000     25.750000      0.000000   \n",
       "75%       25.630000     25.630000     25.380000     26.000000     12.000000   \n",
       "max       26.380000     29.000000     26.190000     26.560000    165.000000   \n",
       "\n",
       "          S2_Light      S3_Light      S4_Light      S1_Sound      S2_Sound  \\\n",
       "count  10129.00000  10129.000000  10129.000000  10129.000000  10129.000000   \n",
       "mean      26.01629     34.248494     13.220259      0.168178      0.120066   \n",
       "std       67.30417     58.400744     19.602219      0.316709      0.266503   \n",
       "min        0.00000      0.000000      0.000000      0.060000      0.040000   \n",
       "25%        0.00000      0.000000      0.000000      0.070000      0.050000   \n",
       "50%        0.00000      0.000000      0.000000      0.080000      0.050000   \n",
       "75%       14.00000     50.000000     22.000000      0.080000      0.060000   \n",
       "max      258.00000    280.000000     74.000000      3.880000      3.440000   \n",
       "\n",
       "           S3_Sound      S4_Sound        S5_CO2  S5_CO2_Slope        S6_PIR  \\\n",
       "count  10129.000000  10129.000000  10129.000000  10129.000000  10129.000000   \n",
       "mean       0.158119      0.103840    460.860401     -0.004830      0.090137   \n",
       "std        0.413637      0.120683    199.964940      1.164990      0.286392   \n",
       "min        0.040000      0.050000    345.000000     -6.296154      0.000000   \n",
       "25%        0.060000      0.060000    355.000000     -0.046154      0.000000   \n",
       "50%        0.060000      0.080000    360.000000      0.000000      0.000000   \n",
       "75%        0.070000      0.100000    465.000000      0.000000      0.000000   \n",
       "max        3.670000      3.400000   1270.000000      8.980769      1.000000   \n",
       "\n",
       "             S7_PIR  Room_Occupancy_Count  \n",
       "count  10129.000000          10129.000000  \n",
       "mean       0.079574              0.398559  \n",
       "std        0.270645              0.893633  \n",
       "min        0.000000              0.000000  \n",
       "25%        0.000000              0.000000  \n",
       "50%        0.000000              0.000000  \n",
       "75%        0.000000              0.000000  \n",
       "max        1.000000              3.000000  "
      ]
     },
     "execution_count": 2,
     "metadata": {},
     "output_type": "execute_result"
    }
   ],
   "source": [
    "# load data from csv\n",
    "df = pd.read_csv('Occupancy_Estimation_0-3.csv')\n",
    "df.describe()"
   ]
  },
  {
   "cell_type": "code",
   "execution_count": 3,
   "metadata": {},
   "outputs": [
    {
     "name": "stdout",
     "output_type": "stream",
     "text": [
      "<class 'pandas.core.frame.DataFrame'>\n",
      "RangeIndex: 10129 entries, 0 to 10128\n",
      "Data columns (total 19 columns):\n",
      " #   Column                Non-Null Count  Dtype  \n",
      "---  ------                --------------  -----  \n",
      " 0   Date                  10129 non-null  object \n",
      " 1   Time                  10129 non-null  object \n",
      " 2   S1_Temp               10129 non-null  float64\n",
      " 3   S2_Temp               10129 non-null  float64\n",
      " 4   S3_Temp               10129 non-null  float64\n",
      " 5   S4_Temp               10129 non-null  float64\n",
      " 6   S1_Light              10129 non-null  int64  \n",
      " 7   S2_Light              10129 non-null  int64  \n",
      " 8   S3_Light              10129 non-null  int64  \n",
      " 9   S4_Light              10129 non-null  int64  \n",
      " 10  S1_Sound              10129 non-null  float64\n",
      " 11  S2_Sound              10129 non-null  float64\n",
      " 12  S3_Sound              10129 non-null  float64\n",
      " 13  S4_Sound              10129 non-null  float64\n",
      " 14  S5_CO2                10129 non-null  int64  \n",
      " 15  S5_CO2_Slope          10129 non-null  float64\n",
      " 16  S6_PIR                10129 non-null  int64  \n",
      " 17  S7_PIR                10129 non-null  int64  \n",
      " 18  Room_Occupancy_Count  10129 non-null  int64  \n",
      "dtypes: float64(9), int64(8), object(2)\n",
      "memory usage: 1.5+ MB\n"
     ]
    }
   ],
   "source": [
    "df.info()"
   ]
  },
  {
   "cell_type": "markdown",
   "metadata": {},
   "source": [
    "## Exploratory analysis and feature selection\n",
    "As detailed previously, there are no null values in this dataset. Therefore at this point, all rows can be considered valid for the analysis unless further exploratory analysis reveals strange outliers or otherwise invalid variable values.\n",
    "\n",
    "Next we'll explore the features type by type."
   ]
  },
  {
   "cell_type": "markdown",
   "metadata": {},
   "source": [
    "### Date and Time"
   ]
  },
  {
   "cell_type": "code",
   "execution_count": 4,
   "metadata": {},
   "outputs": [
    {
     "data": {
      "text/plain": [
       "10:49:41    1\n",
       "21:43:16    1\n",
       "21:39:42    1\n",
       "21:40:13    1\n",
       "21:40:43    1\n",
       "           ..\n",
       "16:31:37    1\n",
       "16:32:07    1\n",
       "16:32:38    1\n",
       "16:33:09    1\n",
       "09:00:09    1\n",
       "Name: Time, Length: 10129, dtype: int64"
      ]
     },
     "execution_count": 4,
     "metadata": {},
     "output_type": "execute_result"
    }
   ],
   "source": [
    "df[['Hour', 'rest']] = df['Time'].str.split(pat=':', n=1, expand=True)\n",
    "df.drop(['rest'], axis=1, inplace=True)\n",
    "df['Hour'] = df['Hour'].astype('int')\n",
    "df['Time'].value_counts()"
   ]
  },
  {
   "cell_type": "code",
   "execution_count": 5,
   "metadata": {},
   "outputs": [
    {
     "data": {
      "text/plain": [
       "<AxesSubplot:ylabel='Frequency'>"
      ]
     },
     "execution_count": 5,
     "metadata": {},
     "output_type": "execute_result"
    },
    {
     "data": {
      "image/png": "[encoded data removed]",
      "text/plain": [
       "<Figure size 432x288 with 1 Axes>"
      ]
     },
     "metadata": {
      "needs_background": "light"
     },
     "output_type": "display_data"
    }
   ],
   "source": [
    "df['Hour'].plot(kind='hist', bins=24)"
   ]
  },
  {
   "cell_type": "code",
   "execution_count": 6,
   "metadata": {},
   "outputs": [],
   "source": [
    "if 'Date' in df.columns and 'Time' in df.columns:\n",
    "    df.drop(['Date', 'Time', 'Hour'], axis=1, inplace=True)"
   ]
  },
  {
   "cell_type": "markdown",
   "metadata": {},
   "source": [
    "The data has been collected in a controlled manner, date and time should not have an impact on room occupancy count. We can see that for the most part, time (hour) is distributed quite uniformally which supports this notion. Therefore it is decided that for purpose of this analysis, time and date information is deemed irrelevant. \n",
    "\n",
    "Even if time would somewhat correlate to room occupancy in this experiment, this information would not translate to new data as, again, the room occupancy is controlled by the researchers."
   ]
  },
  {
   "cell_type": "markdown",
   "metadata": {},
   "source": [
    "### Target: Room_Occupancy_Count"
   ]
  },
  {
   "cell_type": "code",
   "execution_count": 7,
   "metadata": {},
   "outputs": [
    {
     "data": {
      "image/png": "[encoded data removed]",
      "text/plain": [
       "<Figure size 648x288 with 1 Axes>"
      ]
     },
     "metadata": {
      "needs_background": "light"
     },
     "output_type": "display_data"
    }
   ],
   "source": [
    "ax = df['Room_Occupancy_Count'].value_counts().plot(kind = 'bar', figsize=(9, 4), width=0.9)\n",
    "for container in ax.containers:\n",
    "    ax.bar_label(container)\n",
    "plt.ylabel('count')\n",
    "plt.xlabel('room occupants')\n",
    "plt.show()"
   ]
  },
  {
   "cell_type": "markdown",
   "metadata": {},
   "source": [
    "We can see that the data is quite imbalanced, with zero occupants (=empty room) occupying most of the observations. We'll take this into account later on when building the ML model. \n",
    "As the target value can take one of four distinct values, this is a **multiclass classification problem**. The distribution of target values other than zero, is a lot more balanced."
   ]
  },
  {
   "cell_type": "markdown",
   "metadata": {},
   "source": [
    "### Temperature (S1_Temp, S2_Temp, S3_Temp, S4_Temp)\n",
    "The room is fitted with four temperature sensors, spaced evenly from each other. We check if all the sensors report similar data."
   ]
  },
  {
   "cell_type": "code",
   "execution_count": 8,
   "metadata": {},
   "outputs": [
    {
     "data": {
      "image/png": "[encoded data removed]",
      "text/plain": [
       "<Figure size 1584x288 with 4 Axes>"
      ]
     },
     "metadata": {
      "needs_background": "light"
     },
     "output_type": "display_data"
    }
   ],
   "source": [
    "fig, ax = plt.subplots(1, 4, figsize=(22,4))\n",
    "df['S1_Temp'].plot(kind='hist', ax=ax[0], bins=20)\n",
    "ax[0].axvline(df['S1_Temp'].median(), color='red', linestyle='dashed', linewidth=1)\n",
    "ax[0].set_xlim([24,29])\n",
    "ax[0].set_xlabel('temperature')\n",
    "ax[0].set_title('Sensor 1')\n",
    "\n",
    "df['S2_Temp'].plot(kind='hist', ax=ax[1], bins=50)\n",
    "ax[1].axvline(df['S2_Temp'].median(), color='red', linestyle='dashed', linewidth=1)\n",
    "ax[1].set_xlim([24,29])\n",
    "ax[1].set_xlabel('temperature')\n",
    "ax[1].set_title('Sensor 2')\n",
    "\n",
    "df['S3_Temp'].plot(kind='hist', ax=ax[2], bins=20)\n",
    "ax[2].axvline(df['S3_Temp'].median(), color='red', linestyle='dashed', linewidth=1)\n",
    "ax[2].set_xlim([24,29])\n",
    "ax[2].set_xlabel('temperature')\n",
    "ax[2].set_title('Sensor 3')\n",
    "\n",
    "df['S4_Temp'].plot(kind='hist', ax=ax[3], bins=20)\n",
    "ax[3].axvline(df['S4_Temp'].median(), color='red', linestyle='dashed', linewidth=1)\n",
    "ax[3].set_xlim([24,29])\n",
    "ax[3].set_xlabel('temperature')\n",
    "ax[3].set_title('Sensor 4')\n",
    "\n",
    "plt.show()"
   ]
  },
  {
   "cell_type": "markdown",
   "metadata": {},
   "source": [
    "Interestingly, the sensors report quite different temperatures compared to each other.<br>\n",
    "The median temperature is around 25 to 26 degrees for all the sensors, but only sensor 2 reports readings higher than 26.5 degrees.<br>\n",
    "Similarly only sensor 3 consistently gives readings closer to 24 degrees on the low end (which also skews the median towards lower values) - the others bottom at around 25 degrees."
   ]
  },
  {
   "cell_type": "markdown",
   "metadata": {},
   "source": [
    "### Light (S1_Light, S2_Light, S3_Light, S4_Light)\n",
    "The light levels are monitored by the same four sensors as in the previous step. Light levels are measured and reported in lux."
   ]
  },
  {
   "cell_type": "code",
   "execution_count": 9,
   "metadata": {},
   "outputs": [
    {
     "data": {
      "image/png": "[encoded data removed]",
      "text/plain": [
       "<Figure size 1584x288 with 4 Axes>"
      ]
     },
     "metadata": {
      "needs_background": "light"
     },
     "output_type": "display_data"
    }
   ],
   "source": [
    "fig, ax = plt.subplots(1, 4, figsize=(22,4))\n",
    "df['S1_Light'].plot(kind='hist', ax=ax[0], bins=20)\n",
    "ax[0].axvline(df['S1_Light'].mean(), color='red', linestyle='dashed', linewidth=1)\n",
    "ax[0].set_xlim([0,270])\n",
    "ax[0].set_xlabel('light (lux)')\n",
    "ax[0].set_title('Sensor 1')\n",
    "\n",
    "df['S2_Light'].plot(kind='hist', ax=ax[1], bins=20)\n",
    "ax[1].axvline(df['S2_Light'].mean(), color='red', linestyle='dashed', linewidth=1)\n",
    "ax[1].set_xlim([0,270])\n",
    "ax[1].set_xlabel('light (lux)')\n",
    "ax[1].set_title('Sensor 2')\n",
    "\n",
    "df['S3_Light'].plot(kind='hist', ax=ax[2], bins=20)\n",
    "ax[2].axvline(df['S3_Light'].mean(), color='red', linestyle='dashed', linewidth=1)\n",
    "ax[2].set_xlim([0,270])\n",
    "ax[2].set_xlabel('light (lux)')\n",
    "ax[2].set_title('Sensor 3')\n",
    "\n",
    "df['S4_Light'].plot(kind='hist', ax=ax[3], bins=20)\n",
    "ax[3].axvline(df['S4_Light'].mean(), color='red', linestyle='dashed', linewidth=1)\n",
    "ax[3].set_xlim([0,270])\n",
    "ax[3].set_xlabel('light (lux)')\n",
    "ax[3].set_title('Sensor 4')\n",
    "\n",
    "plt.show()"
   ]
  },
  {
   "cell_type": "markdown",
   "metadata": {},
   "source": [
    "As the room is empty for the most part of the experiment, it would be logical that an empty room has light levels closer to zero (in this experiment). <br>\n",
    "Possible explanation for rising light levels when the room is occupied could be windows with curtains, lights being switched on or even a door being opened to a brightly lit space. "
   ]
  },
  {
   "cell_type": "markdown",
   "metadata": {},
   "source": [
    "### Sound (S1_Sound, S2_Sound, S3_Sound, S4_Sound)"
   ]
  },
  {
   "cell_type": "code",
   "execution_count": 10,
   "metadata": {},
   "outputs": [
    {
     "data": {
      "image/png": "[encoded data removed]",
      "text/plain": [
       "<Figure size 1584x288 with 4 Axes>"
      ]
     },
     "metadata": {
      "needs_background": "light"
     },
     "output_type": "display_data"
    },
    {
     "name": "stdout",
     "output_type": "stream",
     "text": [
      "Min sound S1: 0.06, Median: 0.08\n",
      "Min sound S2: 0.04, Median: 0.05\n",
      "Min sound S3: 0.04, Median: 0.06\n",
      "Min sound S4: 0.05, Median: 0.08\n"
     ]
    }
   ],
   "source": [
    "fig, ax = plt.subplots(1, 4, figsize=(22,4))\n",
    "df['S1_Sound'].plot(kind='hist', ax=ax[0], bins=30)\n",
    "ax[0].axvline(df['S1_Sound'].median(), color='red', linestyle='dashed', linewidth=1)\n",
    "ax[0].set_xlim([0,3.5])\n",
    "ax[0].set_xlabel('amplifier output volts')\n",
    "ax[0].set_title('Sensor 1')\n",
    "\n",
    "df['S2_Sound'].plot(kind='hist', ax=ax[1], bins=30)\n",
    "ax[1].axvline(df['S2_Sound'].median(), color='red', linestyle='dashed', linewidth=1)\n",
    "ax[1].set_xlim([0,3.5])\n",
    "ax[1].set_xlabel('amplifier output volts')\n",
    "ax[1].set_title('Sensor 2')\n",
    "\n",
    "df['S3_Sound'].plot(kind='hist', ax=ax[2], bins=30)\n",
    "ax[2].axvline(df['S3_Sound'].median(), color='red', linestyle='dashed', linewidth=1)\n",
    "ax[2].set_xlim([0,3.5])\n",
    "ax[2].set_xlabel('amplifier output volts')\n",
    "ax[2].set_title('Sensor 3')\n",
    "\n",
    "df['S4_Sound'].plot(kind='hist', ax=ax[3], bins=30)\n",
    "ax[3].axvline(df['S4_Sound'].median(), color='red', linestyle='dashed', linewidth=1)\n",
    "ax[3].set_xlim([0,3.5])\n",
    "ax[3].set_xlabel('amplifier output volts')\n",
    "ax[3].set_title('Sensor 4')\n",
    "\n",
    "plt.show()\n",
    "print('Min sound S1: {}, Median: {}'.format(df['S1_Sound'].min(), df['S1_Sound'].median()))\n",
    "print('Min sound S2: {}, Median: {}'.format(df['S2_Sound'].min(), df['S2_Sound'].median()))\n",
    "print('Min sound S3: {}, Median: {}'.format(df['S3_Sound'].min(), df['S3_Sound'].median()))\n",
    "print('Min sound S4: {}, Median: {}'.format(df['S4_Sound'].min(), df['S4_Sound'].median()))"
   ]
  },
  {
   "cell_type": "markdown",
   "metadata": {},
   "source": [
    "The sound data from all sensors is distributed very similarly. A hypothesis would be that in a small room sensors pick up sounds at a similar level irrespective of the exact location."
   ]
  },
  {
   "cell_type": "markdown",
   "metadata": {},
   "source": [
    "### CO2, CO2 slope & PIR\n",
    "These sensors observe CO2 levels and detected motion.\n",
    "\n",
    "CO2 is reported in two ways, the current CO2 level (ppm) and CO2 slope, meaning a slope of CO2 readings taken in a sliding window (negative means decreasing values, positive increasing)<br>\n",
    "Motion is reported using a binary variable, either there is motion detected (value of 1) or there is not (value of 0)."
   ]
  },
  {
   "cell_type": "code",
   "execution_count": 11,
   "metadata": {},
   "outputs": [
    {
     "name": "stdout",
     "output_type": "stream",
     "text": [
      "Minimum CO2 level: 345ppm\n",
      "Maximum CO2 level: 1270ppm\n"
     ]
    },
    {
     "data": {
      "image/png": "[encoded data removed]",
      "text/plain": [
       "<Figure size 1584x288 with 4 Axes>"
      ]
     },
     "metadata": {
      "needs_background": "light"
     },
     "output_type": "display_data"
    }
   ],
   "source": [
    "print('Minimum CO2 level: {}ppm'.format(df['S5_CO2'].min()))\n",
    "print('Maximum CO2 level: {}ppm'.format(df['S5_CO2'].max()))\n",
    "\n",
    "fig, ax = plt.subplots(1, 4, figsize=(22,4))\n",
    "df['S5_CO2'].plot(kind='hist', bins=30, ax=ax[0], log=True)\n",
    "ax[0].set_xlabel('ppm')\n",
    "ax[0].set_title('CO2 level')\n",
    "\n",
    "df['S5_CO2_Slope'].plot(kind='hist', bins=30, ax=ax[1])\n",
    "ax[1].set_xlabel('slope')\n",
    "ax[1].set_title('CO2 slope')\n",
    "\n",
    "df['S6_PIR'].value_counts().plot(kind='pie', ax=ax[2])\n",
    "ax[2].set_title('Motion sensor 1\\n(1=motion)')\n",
    "df['S7_PIR'].value_counts().plot(kind='pie', ax=ax[3])\n",
    "ax[3].set_title('Motion sensor 2\\n(1=motion)')\n",
    "plt.show()"
   ]
  },
  {
   "cell_type": "markdown",
   "metadata": {},
   "source": [
    "## Feature engineering\n",
    "As logistic regression and MLP are sensitive to feature scale, and we previously observed clear differences between the scales (even between different sensors observing the same data!), we apply standard scaling to the features before running the ML model.<br> This is done as a first step of the pipeline. Same scaling is also applied to the testing data when predicting results.\n",
    "\n",
    "Further eature engineering is not needed since we don't have e.g. any categorical variables that need encoding."
   ]
  },
  {
   "cell_type": "markdown",
   "metadata": {},
   "source": [
    "## ML Models"
   ]
  },
  {
   "cell_type": "markdown",
   "metadata": {},
   "source": [
    "**Target** = Room occupancy count<br>\n",
    "**Features** = all other variables\n",
    "\n",
    "We split the data into training and test sets, where test set size is 15%. Further splitting to validation sets is done in the next step."
   ]
  },
  {
   "cell_type": "code",
   "execution_count": 12,
   "metadata": {},
   "outputs": [],
   "source": [
    "y = df['Room_Occupancy_Count']\n",
    "X = df.loc[:, df.columns != 'Room_Occupancy_Count']\n",
    "\n",
    "X_train, X_test, y_train, y_test = train_test_split(X, y, test_size=0.15, random_state=42)"
   ]
  },
  {
   "cell_type": "markdown",
   "metadata": {},
   "source": [
    "### Logistic Regression\n",
    "\n",
    "We use a simple grid search for searching the hyperparameters for logistic regression. GridSearchCV uses k-fold cross validation for defining validation sets.\n",
    " - **C-values**: *100*, *10*, *1*, *0.1* and *0.01* are tested.\n",
    " - **Class weight**: *None* and *balanced*"
   ]
  },
  {
   "cell_type": "code",
   "execution_count": 43,
   "metadata": {},
   "outputs": [
    {
     "name": "stdout",
     "output_type": "stream",
     "text": [
      "Best model parameters:\n",
      "{'C': 10, 'class_weight': None, 'solver': 'lbfgs'}\n",
      "-0.02329520901484007\n"
     ]
    }
   ],
   "source": [
    "# Define model hyperparameters\n",
    "# https://scikit-learn.org/stable/modules/linear_model.html#logistic-regression\n",
    "solvers = ['lbfgs']\n",
    "c_values = [100, 10, 1, 0.1, 0.01]\n",
    "class_weights = [None, 'balanced']\n",
    "grid = dict(\n",
    "    solver=solvers, \n",
    "    C=c_values, \n",
    "    class_weight=class_weights\n",
    "    )\n",
    "\n",
    "# Build pipeline with scaling, grid search and logistic regression\n",
    "pipeline = make_pipeline(\n",
    "    StandardScaler(), \n",
    "    GridSearchCV(\n",
    "        estimator=LogisticRegression(max_iter=10000),\n",
    "        param_grid=grid,\n",
    "        cv=3,\n",
    "        scoring='neg_log_loss',\n",
    "        refit=True)\n",
    "    )\n",
    "\n",
    "# Fit training data\n",
    "pipeline.fit(X_train, y_train)\n",
    "\n",
    "# Get best params\n",
    "print('Best model parameters:')\n",
    "print(pipeline.named_steps['gridsearchcv'].best_params_)\n",
    "print(pipeline.named_steps['gridsearchcv'].best_score_)"
   ]
  },
  {
   "cell_type": "code",
   "execution_count": 44,
   "metadata": {},
   "outputs": [
    {
     "name": "stdout",
     "output_type": "stream",
     "text": [
      "\n",
      "Test set:\n",
      "Accuracy:  0.9928\n",
      "Precision: 0.9761\n",
      "Recall:    0.9795\n"
     ]
    }
   ],
   "source": [
    "# Predict\n",
    "y_pred = pipeline.predict(X_test)\n",
    "\n",
    "# Compute train & test loss\n",
    "train_loss_logreg = log_loss(y_train, pipeline.predict_proba(X_train))\n",
    "test_loss_logreg = log_loss(y_test, pipeline.predict_proba(X_test))\n",
    "val_loss_logreg = -pipeline.named_steps['gridsearchcv'].best_score_\n",
    "\n",
    "# Compute accuracy, precision and recall\n",
    "acc_logreg = accuracy_score(y_test, y_pred)\n",
    "prec_logreg = precision_score(y_test, y_pred, average='macro')\n",
    "rec_logreg = recall_score(y_test, y_pred, average='macro')\n",
    "\n",
    "print('\\nTest set:')\n",
    "print('Accuracy:  {:.4f}'.format(acc_logreg))\n",
    "print('Precision: {:.4f}'.format(prec_logreg))\n",
    "print('Recall:    {:.4f}'.format(rec_logreg))"
   ]
  },
  {
   "cell_type": "markdown",
   "metadata": {},
   "source": [
    "### Multi-layer perceptron (MLP)\n"
   ]
  },
  {
   "cell_type": "markdown",
   "metadata": {},
   "source": [
    "The MLP model is constructed using a similar pipeline. StandardScaler is used to standardize data and a grid search is used to identify best performing hyperparameters.\n",
    " - Trying different activation function\n",
    " - Various hidden layer sizes"
   ]
  },
  {
   "cell_type": "code",
   "execution_count": 42,
   "metadata": {},
   "outputs": [
    {
     "name": "stdout",
     "output_type": "stream",
     "text": [
      "Best model parameters:\n",
      "{'activation': 'tanh', 'hidden_layer_sizes': (100,), 'solver': 'adam'}\n",
      "-0.017911113848003132\n"
     ]
    }
   ],
   "source": [
    "# Define model hyperparameters\n",
    "solver = ['adam']\n",
    "activation = ['relu', 'tanh']\n",
    "hidden_layer_sizes = [(100,), (50,50,50), (100,50,10)]\n",
    "grid = dict(\n",
    "    solver=solver, \n",
    "    activation=activation, \n",
    "    hidden_layer_sizes=hidden_layer_sizes\n",
    "    )\n",
    "\n",
    "pipeline_mlp = make_pipeline(\n",
    "    StandardScaler(), \n",
    "    GridSearchCV(\n",
    "        estimator=MLPClassifier(random_state=42, max_iter=300),\n",
    "        param_grid=grid,\n",
    "        cv=3,\n",
    "        scoring='neg_log_loss',\n",
    "        refit=True)\n",
    "    )\n",
    "\n",
    "# Fit training data\n",
    "pipeline_mlp.fit(X_train, y_train)\n",
    "\n",
    "# Get best params\n",
    "print('Best model parameters:')\n",
    "print(pipeline_mlp.named_steps['gridsearchcv'].best_params_)\n",
    "print(pipeline_mlp.named_steps['gridsearchcv'].best_score_)"
   ]
  },
  {
   "cell_type": "code",
   "execution_count": 45,
   "metadata": {},
   "outputs": [
    {
     "name": "stdout",
     "output_type": "stream",
     "text": [
      "\n",
      "Test set:\n",
      "Accuracy:  0.9934\n",
      "Precision: 0.9767\n",
      "Recall:    0.9834\n"
     ]
    }
   ],
   "source": [
    "# Predict test set\n",
    "y_pred_mlp = pipeline_mlp.predict(X_test)\n",
    "\n",
    "# Compute train & test loss\n",
    "train_loss_mlp = log_loss(y_train, pipeline_mlp.predict_proba(X_train))\n",
    "test_loss_mlp = log_loss(y_test, pipeline_mlp.predict_proba(X_test))\n",
    "val_loss_mlp = -pipeline_mlp.named_steps['gridsearchcv'].best_score_\n",
    "\n",
    "# Compute accuracy, precision and recall\n",
    "acc_mlp = accuracy_score(y_test, y_pred_mlp)\n",
    "prec_mlp = precision_score(y_test, y_pred_mlp, average='macro')\n",
    "rec_mlp = recall_score(y_test, y_pred_mlp, average='macro')\n",
    "\n",
    "print('\\nTest set:')\n",
    "print('Accuracy:  {:.4f}'.format(acc_mlp))\n",
    "print('Precision: {:.4f}'.format(prec_mlp))\n",
    "print('Recall:    {:.4f}'.format(rec_mlp))"
   ]
  },
  {
   "cell_type": "markdown",
   "metadata": {},
   "source": [
    "### Results and model comparison\n",
    "Comparing the two models on unseen test data with the use of confusion matrices and summary metrics"
   ]
  },
  {
   "cell_type": "code",
   "execution_count": 50,
   "metadata": {},
   "outputs": [
    {
     "data": {
      "image/png": "[encoded data removed]",
      "text/plain": [
       "<Figure size 1152x576 with 6 Axes>"
      ]
     },
     "metadata": {
      "needs_background": "light"
     },
     "output_type": "display_data"
    }
   ],
   "source": [
    "# create figure, axes\n",
    "fig, ax = plt.subplots(2, 2, figsize=(16,8), gridspec_kw={'height_ratios': [4, 1]})\n",
    "\n",
    "# cm logreg\n",
    "cm = confusion_matrix(y_test, y_pred, labels=pipeline.classes_)\n",
    "disp = ConfusionMatrixDisplay(cm, display_labels=pipeline.classes_)\n",
    "disp.plot(cmap='Blues', ax=ax[0, 0])\n",
    "ax[0, 0].set_title('Logistic regression\\nCM test set')\n",
    "\n",
    "# cm mlp\n",
    "cm_mlp = confusion_matrix(y_test, y_pred_mlp, labels=pipeline_mlp.classes_)\n",
    "disp = ConfusionMatrixDisplay(cm_mlp, display_labels=pipeline_mlp.classes_)\n",
    "disp.plot(cmap='Greens', ax=ax[0, 1])\n",
    "ax[0, 1].set_title('Multi-layer perceptron (MLP)\\nCM test set')\n",
    "\n",
    "# logreg stats\n",
    "ax[1,0].set_axis_off()\n",
    "table_l = ax[1,0].table(\n",
    "    cellText = [['{:.5f}'.format(train_loss_logreg)],\n",
    "                ['{:.5f}'.format(val_loss_logreg)],\n",
    "                ['{:.5f}'.format(test_loss_logreg)],\n",
    "                ['{:.3f}'.format(acc_logreg)],\n",
    "                ['{:.3f}'.format(prec_logreg)],\n",
    "                ['{:.3f}'.format(rec_logreg)]],\n",
    "    rowLabels = ['Train loss:', 'Validation loss:', 'Test loss:', 'Test accuracy:', 'Test precision:', 'Test recall:'],\n",
    "    colWidths = [0.2, 0.3],\n",
    "    edges = '',\n",
    "    loc = 'upper center'\n",
    "    )\n",
    "table_l.set_fontsize(16)\n",
    "table_l.scale(1, 1.4)\n",
    "\n",
    "# mlp stats\n",
    "ax[1,1].set_axis_off()\n",
    "table_m = ax[1,1].table(\n",
    "    cellText = [['{:.5f}'.format(train_loss_mlp)],\n",
    "                ['{:.5f}'.format(val_loss_mlp)],\n",
    "                ['{:.5f}'.format(test_loss_mlp)],\n",
    "                ['{:.3f}'.format(acc_mlp)],\n",
    "                ['{:.3f}'.format(prec_mlp)],\n",
    "                ['{:.3f}'.format(rec_mlp)]],\n",
    "    rowLabels = ['Train loss:', 'Validation loss:', 'Test loss:', 'Test accuracy:', 'Test precision:', 'Test recall:'],\n",
    "    colWidths = [0.2, 0.3],\n",
    "    edges = '',\n",
    "    loc = 'upper center',\n",
    "    )\n",
    "table_m.set_fontsize(16)\n",
    "table_m.scale(1, 1.4)\n",
    "\n",
    "# show plot\n",
    "plt.show()"
   ]
  },
  {
   "cell_type": "markdown",
   "metadata": {},
   "source": [
    "The performance of both models is exceptionally good, which would imply that the features are clearly and consistently correlated with the label values.<br>This leads to the ML problem being very easy for these models to learn on.\n",
    "\n",
    "Even though both model perform very similarly, misclassifying only few samples, the multi-layer perceptron implementation performs slightly better by every metric shown here, especially the training, validation and testing losses. Additionally, the validation and test losses of the MLP model are very similar which indicates that the model performs almost equally well on unseen data. On the other hand, the test loss of the logistic regression model is relatively higher than the validation loss, which tells us that there might be some overfitting and that the model does not perform as well on new data as the MLP model does.\n",
    "\n",
    "Therefore, for this exact problem, it would be advisable to choose the MLP model over the logistic regression implementation."
   ]
  }
 ],
 "metadata": {
  "kernelspec": {
   "display_name": "Python 3.9.7 ('base')",
   "language": "python",
   "name": "python3"
  },
  "language_info": {
   "codemirror_mode": {
    "name": "ipython",
    "version": 3
   },
   "file_extension": ".py",
   "mimetype": "text/x-python",
   "name": "python",
   "nbconvert_exporter": "python",
   "pygments_lexer": "ipython3",
   "version": "3.9.7"
  },
  "orig_nbformat": 4,
  "vscode": {
   "interpreter": {
    "hash": "089c0ec8e6b88ce73485787f653901aac603eb98514334535587ea4a35dc8040"
   }
  }
 },
 "nbformat": 4,
 "nbformat_minor": 2
}
